{
 "cells": [
  {
   "cell_type": "code",
   "execution_count": 16,
   "id": "ec62b0d4",
   "metadata": {},
   "outputs": [],
   "source": [
    "import pandas as pd\n",
    "import numpy as np\n",
    "import google.generativeai as genai\n",
    "from sklearn.metrics.pairwise import cosine_similarity\n",
    "from sentence_transformers import SentenceTransformer\n",
    "\n",
    "genai.configure(api_key=\"\")\n",
    "\n",
    "model = genai.GenerativeModel(\"gemini-2.0-flash\")\n",
    "embedding_model = SentenceTransformer('all-MiniLM-L6-v2')"
   ]
  },
  {
   "cell_type": "code",
   "execution_count": 17,
   "id": "9a577914",
   "metadata": {},
   "outputs": [],
   "source": [
<<<<<<< HEAD
    "df = pd.read_csv(\"City_Info.csv\")\n",
    "df['combined_text'] = df[['Location', 'Country', 'Parking Available', 'Weather', 'Temperature', 'Rain', 'Wind Speed', 'Description']].astype(str).agg(' | '.join, axis=1)"
=======
    "genai.configure(api_key=\"\")\n",
    "model = genai.GenerativeModel(\"gemini-2.0-flash\")"
>>>>>>> fa39d72b72050f1dc351753f7e1d8f58f1670fb4
   ]
  },
  {
   "cell_type": "code",
   "execution_count": 18,
   "id": "850002a6",
   "metadata": {},
   "outputs": [],
   "source": [
    "df['embedding'] = df['combined_text'].apply(lambda x: embedding_model.encode(x))"
   ]
  },
  {
   "cell_type": "code",
   "execution_count": 21,
   "id": "9e04be4c",
   "metadata": {},
   "outputs": [
    {
     "name": "stdout",
     "output_type": "stream",
     "text": [
      "Response:\n",
      " Based on the provided data, the temperature at the Eiffel Tower is consistently 33 degrees. Therefore, the average temperature is **33**.\n",
      "\n"
     ]
    }
   ],
   "source": [
    "prompt = \"what is the average temperature in eiffel tower?\"\n",
    "prompt_embedding = embedding_model.encode(prompt)\n",
    "\n",
    "embeddings_matrix = np.vstack(df['embedding'].values)\n",
    "similarities = cosine_similarity([prompt_embedding], embeddings_matrix)[0]\n",
    "\n",
    "df['similarity'] = similarities\n",
    "\n",
    "top_matches = df.sort_values('similarity', ascending=False).head(5)\n",
    "\n",
    "context_head = \"Location | Country | Parking Available | Weather | Temperature | Rain | Wind Speed | Description\"\n",
    "context_row = \"\\n\\n\".join(top_matches['combined_text'].values)\n",
    "context_text = f\"{context_head}\\n\\n{context_row}\"\n",
    "\n",
    "final_prompt = f\"Use the following information to answer the question:\\n\\n{context_text}\\n\\nQuestion: {prompt}\"\n",
    "\n",
    "response = model.generate_content(final_prompt)\n",
    "\n",
    "print(\"Response:\\n\", response.text)"
   ]
  }
 ],
 "metadata": {
  "kernelspec": {
   "display_name": "base",
   "language": "python",
   "name": "python3"
  },
  "language_info": {
   "codemirror_mode": {
    "name": "ipython",
    "version": 3
   },
   "file_extension": ".py",
   "mimetype": "text/x-python",
   "name": "python",
   "nbconvert_exporter": "python",
   "pygments_lexer": "ipython3",
   "version": "3.12.7"
  }
 },
 "nbformat": 4,
 "nbformat_minor": 5
}
