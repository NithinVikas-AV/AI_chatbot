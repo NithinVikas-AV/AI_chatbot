{
 "cells": [
  {
   "cell_type": "code",
   "execution_count": 2,
   "id": "ec62b0d4",
   "metadata": {},
   "outputs": [],
   "source": [
    "import pandas\n",
    "import google.generativeai as genai"
   ]
  },
  {
   "cell_type": "code",
   "execution_count": 4,
   "id": "9a577914",
   "metadata": {},
   "outputs": [],
   "source": [
    "genai.configure(api_key=\"\")\n",
    "model = genai.GenerativeModel(\"gemini-2.0-flash\")"
   ]
  },
  {
   "cell_type": "code",
   "execution_count": 6,
   "id": "5d76394a",
   "metadata": {},
   "outputs": [
    {
     "name": "stdout",
     "output_type": "stream",
     "text": [
      "Yes, I will do my best to answer your prompts! Please feel free to ask me anything. I'm ready when you are.\n",
      "\n"
     ]
    }
   ],
   "source": [
    "question = \"Will you answer to my prompts?\"\n",
    "response = model.generate_content(question)\n",
    "print(response.text)"
   ]
  },
  {
   "cell_type": "code",
   "execution_count": 7,
   "id": "fdc2df6b",
   "metadata": {},
   "outputs": [
    {
     "ename": "SyntaxError",
     "evalue": "invalid syntax (2051104732.py, line 1)",
     "output_type": "error",
     "traceback": [
      "\u001b[1;36m  Cell \u001b[1;32mIn[7], line 1\u001b[1;36m\u001b[0m\n\u001b[1;33m    git add .\u001b[0m\n\u001b[1;37m        ^\u001b[0m\n\u001b[1;31mSyntaxError\u001b[0m\u001b[1;31m:\u001b[0m invalid syntax\n"
     ]
    }
   ],
   "source": [
    "git add .\n",
    "git commit -m \"Just created a chatbot using gemini api key\"\n",
    "git push origin main"
   ]
  },
  {
   "cell_type": "code",
   "execution_count": null,
   "id": "e6e913f9",
   "metadata": {},
   "outputs": [],
   "source": []
  }
 ],
 "metadata": {
  "kernelspec": {
   "display_name": "base",
   "language": "python",
   "name": "python3"
  },
  "language_info": {
   "codemirror_mode": {
    "name": "ipython",
    "version": 3
   },
   "file_extension": ".py",
   "mimetype": "text/x-python",
   "name": "python",
   "nbconvert_exporter": "python",
   "pygments_lexer": "ipython3",
   "version": "3.12.7"
  }
 },
 "nbformat": 4,
 "nbformat_minor": 5
}
